{
 "cells": [
  {
   "cell_type": "code",
   "execution_count": 1,
   "metadata": {},
   "outputs": [],
   "source": [
    "import pandas as pd\n",
    "import numpy as np\n",
    "import matplotlib.pyplot as plt\n",
    "from scipy import stats as st\n",
    "import seaborn as sns\n",
    "import datetime\n",
    "import random\n",
    "\n",
    "pd.set_option('display.max_rows', 500)\n",
    "pd.set_option('display.max_columns', 500)\n",
    "pd.set_option('display.width', 1000)"
   ]
  },
  {
   "cell_type": "code",
   "execution_count": 2,
   "metadata": {},
   "outputs": [],
   "source": [
    "df = pd.read_csv('data_test.csv', sep=';')"
   ]
  },
  {
   "cell_type": "code",
   "execution_count": 3,
   "metadata": {
    "scrolled": true
   },
   "outputs": [
    {
     "name": "stdout",
     "output_type": "stream",
     "text": [
      "<class 'pandas.core.frame.DataFrame'>\n",
      "RangeIndex: 805821 entries, 0 to 805820\n",
      "Data columns (total 5 columns):\n",
      "CLIENT_ID             805821 non-null int64\n",
      "VALUE_DAY             805821 non-null object\n",
      "DIGITAL_30_CNT        711169 non-null float64\n",
      "TRAN_ACTIVE_30_CNT    711169 non-null float64\n",
      "OPER_ACTIVE_30_CNT    711169 non-null float64\n",
      "dtypes: float64(3), int64(1), object(1)\n",
      "memory usage: 30.7+ MB\n"
     ]
    }
   ],
   "source": [
    "df.info()"
   ]
  },
  {
   "cell_type": "code",
   "execution_count": 4,
   "metadata": {},
   "outputs": [],
   "source": [
    "#преобразуем VALUE_DAY из строковой переменной в дату\n",
    "df['VALUE_DAY'] = df['VALUE_DAY'].astype('datetime64[D]')"
   ]
  },
  {
   "cell_type": "code",
   "execution_count": 5,
   "metadata": {
    "scrolled": true
   },
   "outputs": [
    {
     "name": "stdout",
     "output_type": "stream",
     "text": [
      "<class 'pandas.core.frame.DataFrame'>\n",
      "RangeIndex: 805821 entries, 0 to 805820\n",
      "Data columns (total 5 columns):\n",
      "CLIENT_ID             805821 non-null int64\n",
      "VALUE_DAY             805821 non-null datetime64[ns]\n",
      "DIGITAL_30_CNT        711169 non-null float64\n",
      "TRAN_ACTIVE_30_CNT    711169 non-null float64\n",
      "OPER_ACTIVE_30_CNT    711169 non-null float64\n",
      "dtypes: datetime64[ns](1), float64(3), int64(1)\n",
      "memory usage: 30.7 MB\n"
     ]
    }
   ],
   "source": [
    "df.info()"
   ]
  },
  {
   "cell_type": "markdown",
   "metadata": {},
   "source": [
    "## Активные пользователи"
   ]
  },
  {
   "cell_type": "code",
   "execution_count": 6,
   "metadata": {},
   "outputs": [],
   "source": [
    "df_activ = df.copy()"
   ]
  },
  {
   "cell_type": "code",
   "execution_count": 7,
   "metadata": {},
   "outputs": [],
   "source": [
    "#группируем пользователей по дате первого отчетного периода (дата, когда пользователь впервые отмечен в отчете) \n",
    "first_date = df_activ.groupby('CLIENT_ID')['VALUE_DAY'].min()"
   ]
  },
  {
   "cell_type": "code",
   "execution_count": 8,
   "metadata": {},
   "outputs": [
    {
     "data": {
      "text/plain": [
       "CLIENT_ID\n",
       "8294         2021-09-30\n",
       "10609        2021-09-30\n",
       "15465        2021-09-30\n",
       "69014        2021-09-30\n",
       "100397       2021-09-30\n",
       "                ...    \n",
       "4294839524   2021-09-30\n",
       "4294859384   2021-09-30\n",
       "4294873964   2021-09-30\n",
       "4294911320   2021-09-30\n",
       "4294935340   2021-09-30\n",
       "Name: VALUE_DAY, Length: 169092, dtype: datetime64[ns]"
      ]
     },
     "execution_count": 8,
     "metadata": {},
     "output_type": "execute_result"
    }
   ],
   "source": [
    "first_date"
   ]
  },
  {
   "cell_type": "code",
   "execution_count": 9,
   "metadata": {},
   "outputs": [],
   "source": [
    "#переименуем название столбца\n",
    "first_date.name = 'first_date_action'"
   ]
  },
  {
   "cell_type": "code",
   "execution_count": 10,
   "metadata": {
    "scrolled": true
   },
   "outputs": [],
   "source": [
    "#добавим полученную разметку к исходному ДФ\n",
    "df_activ_merge = df_activ.merge(first_date, on='CLIENT_ID')"
   ]
  },
  {
   "cell_type": "code",
   "execution_count": 11,
   "metadata": {
    "scrolled": true
   },
   "outputs": [
    {
     "data": {
      "text/html": [
       "<div>\n",
       "<style scoped>\n",
       "    .dataframe tbody tr th:only-of-type {\n",
       "        vertical-align: middle;\n",
       "    }\n",
       "\n",
       "    .dataframe tbody tr th {\n",
       "        vertical-align: top;\n",
       "    }\n",
       "\n",
       "    .dataframe thead th {\n",
       "        text-align: right;\n",
       "    }\n",
       "</style>\n",
       "<table border=\"1\" class=\"dataframe\">\n",
       "  <thead>\n",
       "    <tr style=\"text-align: right;\">\n",
       "      <th></th>\n",
       "      <th>CLIENT_ID</th>\n",
       "      <th>VALUE_DAY</th>\n",
       "      <th>DIGITAL_30_CNT</th>\n",
       "      <th>TRAN_ACTIVE_30_CNT</th>\n",
       "      <th>OPER_ACTIVE_30_CNT</th>\n",
       "      <th>first_date_action</th>\n",
       "    </tr>\n",
       "  </thead>\n",
       "  <tbody>\n",
       "    <tr>\n",
       "      <td>0</td>\n",
       "      <td>3596869440</td>\n",
       "      <td>2021-09-30</td>\n",
       "      <td>18.0</td>\n",
       "      <td>8.0</td>\n",
       "      <td>9.0</td>\n",
       "      <td>2021-09-30</td>\n",
       "    </tr>\n",
       "    <tr>\n",
       "      <td>1</td>\n",
       "      <td>3596869440</td>\n",
       "      <td>2021-10-31</td>\n",
       "      <td>17.0</td>\n",
       "      <td>13.0</td>\n",
       "      <td>14.0</td>\n",
       "      <td>2021-09-30</td>\n",
       "    </tr>\n",
       "    <tr>\n",
       "      <td>2</td>\n",
       "      <td>3596869440</td>\n",
       "      <td>2021-11-30</td>\n",
       "      <td>11.0</td>\n",
       "      <td>9.0</td>\n",
       "      <td>11.0</td>\n",
       "      <td>2021-09-30</td>\n",
       "    </tr>\n",
       "    <tr>\n",
       "      <td>3</td>\n",
       "      <td>3596869440</td>\n",
       "      <td>2021-12-31</td>\n",
       "      <td>15.0</td>\n",
       "      <td>13.0</td>\n",
       "      <td>15.0</td>\n",
       "      <td>2021-09-30</td>\n",
       "    </tr>\n",
       "    <tr>\n",
       "      <td>4</td>\n",
       "      <td>3596869440</td>\n",
       "      <td>2022-01-31</td>\n",
       "      <td>15.0</td>\n",
       "      <td>11.0</td>\n",
       "      <td>14.0</td>\n",
       "      <td>2021-09-30</td>\n",
       "    </tr>\n",
       "    <tr>\n",
       "      <td>5</td>\n",
       "      <td>3596869440</td>\n",
       "      <td>2022-02-28</td>\n",
       "      <td>13.0</td>\n",
       "      <td>11.0</td>\n",
       "      <td>13.0</td>\n",
       "      <td>2021-09-30</td>\n",
       "    </tr>\n",
       "    <tr>\n",
       "      <td>6</td>\n",
       "      <td>181778433</td>\n",
       "      <td>2021-09-30</td>\n",
       "      <td>7.0</td>\n",
       "      <td>3.0</td>\n",
       "      <td>3.0</td>\n",
       "      <td>2021-09-30</td>\n",
       "    </tr>\n",
       "    <tr>\n",
       "      <td>7</td>\n",
       "      <td>181778433</td>\n",
       "      <td>2021-10-31</td>\n",
       "      <td>7.0</td>\n",
       "      <td>2.0</td>\n",
       "      <td>2.0</td>\n",
       "      <td>2021-09-30</td>\n",
       "    </tr>\n",
       "    <tr>\n",
       "      <td>8</td>\n",
       "      <td>181778433</td>\n",
       "      <td>2021-11-30</td>\n",
       "      <td>7.0</td>\n",
       "      <td>3.0</td>\n",
       "      <td>3.0</td>\n",
       "      <td>2021-09-30</td>\n",
       "    </tr>\n",
       "    <tr>\n",
       "      <td>9</td>\n",
       "      <td>181778433</td>\n",
       "      <td>2021-12-31</td>\n",
       "      <td>11.0</td>\n",
       "      <td>2.0</td>\n",
       "      <td>2.0</td>\n",
       "      <td>2021-09-30</td>\n",
       "    </tr>\n",
       "  </tbody>\n",
       "</table>\n",
       "</div>"
      ],
      "text/plain": [
       "    CLIENT_ID  VALUE_DAY  DIGITAL_30_CNT  TRAN_ACTIVE_30_CNT  OPER_ACTIVE_30_CNT first_date_action\n",
       "0  3596869440 2021-09-30            18.0                 8.0                 9.0        2021-09-30\n",
       "1  3596869440 2021-10-31            17.0                13.0                14.0        2021-09-30\n",
       "2  3596869440 2021-11-30            11.0                 9.0                11.0        2021-09-30\n",
       "3  3596869440 2021-12-31            15.0                13.0                15.0        2021-09-30\n",
       "4  3596869440 2022-01-31            15.0                11.0                14.0        2021-09-30\n",
       "5  3596869440 2022-02-28            13.0                11.0                13.0        2021-09-30\n",
       "6   181778433 2021-09-30             7.0                 3.0                 3.0        2021-09-30\n",
       "7   181778433 2021-10-31             7.0                 2.0                 2.0        2021-09-30\n",
       "8   181778433 2021-11-30             7.0                 3.0                 3.0        2021-09-30\n",
       "9   181778433 2021-12-31            11.0                 2.0                 2.0        2021-09-30"
      ]
     },
     "execution_count": 11,
     "metadata": {},
     "output_type": "execute_result"
    }
   ],
   "source": [
    "df_activ_merge.head(10)"
   ]
  },
  {
   "cell_type": "markdown",
   "metadata": {},
   "source": [
    "Из представленных первых 10 строк видно, что некоторые пользователи сохраняют активность на протяжении нескольких месяцев подряд."
   ]
  },
  {
   "cell_type": "code",
   "execution_count": 13,
   "metadata": {},
   "outputs": [],
   "source": [
    "#добавим новый столбец, в котором выделим месяц из даты первого попадания в ДФ\n",
    "df_activ_merge['month_activate'] = df_activ_merge['first_date_action'].astype('datetime64[M]')"
   ]
  },
  {
   "cell_type": "code",
   "execution_count": 14,
   "metadata": {},
   "outputs": [],
   "source": [
    "#оставим только месяц и год\n",
    "df_activ_merge['month_activate'] = df_activ_merge['month_activate'].dt.strftime('%Y-%m') "
   ]
  },
  {
   "cell_type": "code",
   "execution_count": 15,
   "metadata": {},
   "outputs": [],
   "source": [
    "#оставим только дату (без нулевого времени)\n",
    "df_activ_merge['VALUE_DAY'] = df_activ_merge['VALUE_DAY'].dt.strftime('%Y-%m-%d') "
   ]
  },
  {
   "cell_type": "code",
   "execution_count": 16,
   "metadata": {
    "scrolled": true
   },
   "outputs": [],
   "source": [
    "#сгруппируем данные для получения когорт, за индекс возьмем месяц первого активного действия пользователя\n",
    "cohorts_active = df_activ_merge.pivot_table(\n",
    "    index='month_activate',\n",
    "    columns='VALUE_DAY',\n",
    "    values='CLIENT_ID',\n",
    "    aggfunc='nunique',\n",
    ") "
   ]
  },
  {
   "cell_type": "code",
   "execution_count": 17,
   "metadata": {
    "scrolled": false
   },
   "outputs": [
    {
     "data": {
      "text/html": [
       "<div>\n",
       "<style scoped>\n",
       "    .dataframe tbody tr th:only-of-type {\n",
       "        vertical-align: middle;\n",
       "    }\n",
       "\n",
       "    .dataframe tbody tr th {\n",
       "        vertical-align: top;\n",
       "    }\n",
       "\n",
       "    .dataframe thead th {\n",
       "        text-align: right;\n",
       "    }\n",
       "</style>\n",
       "<table border=\"1\" class=\"dataframe\">\n",
       "  <thead>\n",
       "    <tr style=\"text-align: right;\">\n",
       "      <th>VALUE_DAY</th>\n",
       "      <th>2021-09-30</th>\n",
       "      <th>2021-10-31</th>\n",
       "      <th>2021-11-30</th>\n",
       "      <th>2021-12-31</th>\n",
       "      <th>2022-01-31</th>\n",
       "      <th>2022-02-28</th>\n",
       "    </tr>\n",
       "    <tr>\n",
       "      <th>month_activate</th>\n",
       "      <th></th>\n",
       "      <th></th>\n",
       "      <th></th>\n",
       "      <th></th>\n",
       "      <th></th>\n",
       "      <th></th>\n",
       "    </tr>\n",
       "  </thead>\n",
       "  <tbody>\n",
       "    <tr>\n",
       "      <td>2021-09</td>\n",
       "      <td>129232.0</td>\n",
       "      <td>124593.0</td>\n",
       "      <td>120232.0</td>\n",
       "      <td>116456.0</td>\n",
       "      <td>105547.0</td>\n",
       "      <td>104163.0</td>\n",
       "    </tr>\n",
       "    <tr>\n",
       "      <td>2021-10</td>\n",
       "      <td>NaN</td>\n",
       "      <td>7044.0</td>\n",
       "      <td>6936.0</td>\n",
       "      <td>6883.0</td>\n",
       "      <td>5040.0</td>\n",
       "      <td>4800.0</td>\n",
       "    </tr>\n",
       "    <tr>\n",
       "      <td>2021-11</td>\n",
       "      <td>NaN</td>\n",
       "      <td>NaN</td>\n",
       "      <td>5841.0</td>\n",
       "      <td>5743.0</td>\n",
       "      <td>5225.0</td>\n",
       "      <td>4377.0</td>\n",
       "    </tr>\n",
       "    <tr>\n",
       "      <td>2021-12</td>\n",
       "      <td>NaN</td>\n",
       "      <td>NaN</td>\n",
       "      <td>NaN</td>\n",
       "      <td>6875.0</td>\n",
       "      <td>6188.0</td>\n",
       "      <td>6170.0</td>\n",
       "    </tr>\n",
       "    <tr>\n",
       "      <td>2022-01</td>\n",
       "      <td>NaN</td>\n",
       "      <td>NaN</td>\n",
       "      <td>NaN</td>\n",
       "      <td>NaN</td>\n",
       "      <td>14770.0</td>\n",
       "      <td>14374.0</td>\n",
       "    </tr>\n",
       "    <tr>\n",
       "      <td>2022-02</td>\n",
       "      <td>NaN</td>\n",
       "      <td>NaN</td>\n",
       "      <td>NaN</td>\n",
       "      <td>NaN</td>\n",
       "      <td>NaN</td>\n",
       "      <td>5330.0</td>\n",
       "    </tr>\n",
       "  </tbody>\n",
       "</table>\n",
       "</div>"
      ],
      "text/plain": [
       "VALUE_DAY       2021-09-30  2021-10-31  2021-11-30  2021-12-31  2022-01-31  2022-02-28\n",
       "month_activate                                                                        \n",
       "2021-09           129232.0    124593.0    120232.0    116456.0    105547.0    104163.0\n",
       "2021-10                NaN      7044.0      6936.0      6883.0      5040.0      4800.0\n",
       "2021-11                NaN         NaN      5841.0      5743.0      5225.0      4377.0\n",
       "2021-12                NaN         NaN         NaN      6875.0      6188.0      6170.0\n",
       "2022-01                NaN         NaN         NaN         NaN     14770.0     14374.0\n",
       "2022-02                NaN         NaN         NaN         NaN         NaN      5330.0"
      ]
     },
     "execution_count": 17,
     "metadata": {},
     "output_type": "execute_result"
    }
   ],
   "source": [
    "cohorts_active"
   ]
  },
  {
   "cell_type": "markdown",
   "metadata": {},
   "source": [
    "Отчетливо прослеживается, что с каждым последующим месяцем число пользователей в когортах убывает. "
   ]
  },
  {
   "cell_type": "code",
   "execution_count": 18,
   "metadata": {},
   "outputs": [
    {
     "data": {
      "text/plain": [
       "<matplotlib.axes._subplots.AxesSubplot at 0x7f9357ec9ad0>"
      ]
     },
     "execution_count": 18,
     "metadata": {},
     "output_type": "execute_result"
    },
    {
     "data": {
      "image/png": "[encoded data removed]",
      "text/plain": [
       "<Figure size 648x648 with 2 Axes>"
      ]
     },
     "metadata": {
      "needs_background": "light"
     },
     "output_type": "display_data"
    }
   ],
   "source": [
    "#для визуализации применем тепловую карту\n",
    "plt.figure(figsize=(9, 9))\n",
    "plt.title('График удержания клиентов в статусе \"Активный\"')\n",
    "sns.heatmap(cohorts_active, annot=True, fmt='.0f', linewidths=1, linecolor='grey') "
   ]
  },
  {
   "cell_type": "markdown",
   "metadata": {},
   "source": [
    "## Диджитал Активные пользователи"
   ]
  },
  {
   "cell_type": "code",
   "execution_count": 19,
   "metadata": {},
   "outputs": [],
   "source": [
    "df1 = df.copy()"
   ]
  },
  {
   "cell_type": "code",
   "execution_count": 20,
   "metadata": {},
   "outputs": [],
   "source": [
    "dfdf = df1.query('DIGITAL_30_CNT > 0')"
   ]
  },
  {
   "cell_type": "code",
   "execution_count": 21,
   "metadata": {
    "scrolled": true
   },
   "outputs": [],
   "source": [
    "df_digital_activ = df1.query('DIGITAL_30_CNT > 0')"
   ]
  },
  {
   "cell_type": "code",
   "execution_count": 22,
   "metadata": {},
   "outputs": [],
   "source": [
    "#группируем пользователей по дате первого отчетного периода (дата, когда пользователь впервые отмечен в отчете) \n",
    "first_date = df_digital_activ.groupby('CLIENT_ID')['VALUE_DAY'].min()"
   ]
  },
  {
   "cell_type": "code",
   "execution_count": 23,
   "metadata": {},
   "outputs": [
    {
     "data": {
      "text/plain": [
       "CLIENT_ID\n",
       "8294         2021-09-30\n",
       "10609        2021-09-30\n",
       "15465        2021-09-30\n",
       "69014        2021-09-30\n",
       "100397       2021-09-30\n",
       "                ...    \n",
       "4294823638   2021-09-30\n",
       "4294839524   2021-09-30\n",
       "4294859384   2021-09-30\n",
       "4294911320   2021-09-30\n",
       "4294935340   2021-09-30\n",
       "Name: VALUE_DAY, Length: 156543, dtype: datetime64[ns]"
      ]
     },
     "execution_count": 23,
     "metadata": {},
     "output_type": "execute_result"
    }
   ],
   "source": [
    "first_date"
   ]
  },
  {
   "cell_type": "code",
   "execution_count": 24,
   "metadata": {},
   "outputs": [],
   "source": [
    "#переименуем название столбца\n",
    "first_date.name = 'first_date_action'"
   ]
  },
  {
   "cell_type": "code",
   "execution_count": 25,
   "metadata": {},
   "outputs": [],
   "source": [
    "#добавим полученную разметку к исходному ДФ\n",
    "df_digital_activ_merge = df_digital_activ.merge(first_date, on='CLIENT_ID')"
   ]
  },
  {
   "cell_type": "code",
   "execution_count": 26,
   "metadata": {},
   "outputs": [
    {
     "data": {
      "text/html": [
       "<div>\n",
       "<style scoped>\n",
       "    .dataframe tbody tr th:only-of-type {\n",
       "        vertical-align: middle;\n",
       "    }\n",
       "\n",
       "    .dataframe tbody tr th {\n",
       "        vertical-align: top;\n",
       "    }\n",
       "\n",
       "    .dataframe thead th {\n",
       "        text-align: right;\n",
       "    }\n",
       "</style>\n",
       "<table border=\"1\" class=\"dataframe\">\n",
       "  <thead>\n",
       "    <tr style=\"text-align: right;\">\n",
       "      <th></th>\n",
       "      <th>CLIENT_ID</th>\n",
       "      <th>VALUE_DAY</th>\n",
       "      <th>DIGITAL_30_CNT</th>\n",
       "      <th>TRAN_ACTIVE_30_CNT</th>\n",
       "      <th>OPER_ACTIVE_30_CNT</th>\n",
       "      <th>first_date_action</th>\n",
       "    </tr>\n",
       "  </thead>\n",
       "  <tbody>\n",
       "    <tr>\n",
       "      <td>0</td>\n",
       "      <td>3596869440</td>\n",
       "      <td>2021-09-30</td>\n",
       "      <td>18.0</td>\n",
       "      <td>8.0</td>\n",
       "      <td>9.0</td>\n",
       "      <td>2021-09-30</td>\n",
       "    </tr>\n",
       "    <tr>\n",
       "      <td>1</td>\n",
       "      <td>3596869440</td>\n",
       "      <td>2021-10-31</td>\n",
       "      <td>17.0</td>\n",
       "      <td>13.0</td>\n",
       "      <td>14.0</td>\n",
       "      <td>2021-09-30</td>\n",
       "    </tr>\n",
       "    <tr>\n",
       "      <td>2</td>\n",
       "      <td>3596869440</td>\n",
       "      <td>2021-11-30</td>\n",
       "      <td>11.0</td>\n",
       "      <td>9.0</td>\n",
       "      <td>11.0</td>\n",
       "      <td>2021-09-30</td>\n",
       "    </tr>\n",
       "    <tr>\n",
       "      <td>3</td>\n",
       "      <td>3596869440</td>\n",
       "      <td>2021-12-31</td>\n",
       "      <td>15.0</td>\n",
       "      <td>13.0</td>\n",
       "      <td>15.0</td>\n",
       "      <td>2021-09-30</td>\n",
       "    </tr>\n",
       "    <tr>\n",
       "      <td>4</td>\n",
       "      <td>3596869440</td>\n",
       "      <td>2022-01-31</td>\n",
       "      <td>15.0</td>\n",
       "      <td>11.0</td>\n",
       "      <td>14.0</td>\n",
       "      <td>2021-09-30</td>\n",
       "    </tr>\n",
       "    <tr>\n",
       "      <td>5</td>\n",
       "      <td>3596869440</td>\n",
       "      <td>2022-02-28</td>\n",
       "      <td>13.0</td>\n",
       "      <td>11.0</td>\n",
       "      <td>13.0</td>\n",
       "      <td>2021-09-30</td>\n",
       "    </tr>\n",
       "    <tr>\n",
       "      <td>6</td>\n",
       "      <td>181778433</td>\n",
       "      <td>2021-09-30</td>\n",
       "      <td>7.0</td>\n",
       "      <td>3.0</td>\n",
       "      <td>3.0</td>\n",
       "      <td>2021-09-30</td>\n",
       "    </tr>\n",
       "    <tr>\n",
       "      <td>7</td>\n",
       "      <td>181778433</td>\n",
       "      <td>2021-10-31</td>\n",
       "      <td>7.0</td>\n",
       "      <td>2.0</td>\n",
       "      <td>2.0</td>\n",
       "      <td>2021-09-30</td>\n",
       "    </tr>\n",
       "    <tr>\n",
       "      <td>8</td>\n",
       "      <td>181778433</td>\n",
       "      <td>2021-11-30</td>\n",
       "      <td>7.0</td>\n",
       "      <td>3.0</td>\n",
       "      <td>3.0</td>\n",
       "      <td>2021-09-30</td>\n",
       "    </tr>\n",
       "    <tr>\n",
       "      <td>9</td>\n",
       "      <td>181778433</td>\n",
       "      <td>2021-12-31</td>\n",
       "      <td>11.0</td>\n",
       "      <td>2.0</td>\n",
       "      <td>2.0</td>\n",
       "      <td>2021-09-30</td>\n",
       "    </tr>\n",
       "  </tbody>\n",
       "</table>\n",
       "</div>"
      ],
      "text/plain": [
       "    CLIENT_ID  VALUE_DAY  DIGITAL_30_CNT  TRAN_ACTIVE_30_CNT  OPER_ACTIVE_30_CNT first_date_action\n",
       "0  3596869440 2021-09-30            18.0                 8.0                 9.0        2021-09-30\n",
       "1  3596869440 2021-10-31            17.0                13.0                14.0        2021-09-30\n",
       "2  3596869440 2021-11-30            11.0                 9.0                11.0        2021-09-30\n",
       "3  3596869440 2021-12-31            15.0                13.0                15.0        2021-09-30\n",
       "4  3596869440 2022-01-31            15.0                11.0                14.0        2021-09-30\n",
       "5  3596869440 2022-02-28            13.0                11.0                13.0        2021-09-30\n",
       "6   181778433 2021-09-30             7.0                 3.0                 3.0        2021-09-30\n",
       "7   181778433 2021-10-31             7.0                 2.0                 2.0        2021-09-30\n",
       "8   181778433 2021-11-30             7.0                 3.0                 3.0        2021-09-30\n",
       "9   181778433 2021-12-31            11.0                 2.0                 2.0        2021-09-30"
      ]
     },
     "execution_count": 26,
     "metadata": {},
     "output_type": "execute_result"
    }
   ],
   "source": [
    "df_digital_activ_merge.head(10)"
   ]
  },
  {
   "cell_type": "code",
   "execution_count": 27,
   "metadata": {},
   "outputs": [],
   "source": [
    "#добавим новый столбец, в котором выделим месяц из даты первого попадания в ДФ\n",
    "df_digital_activ_merge['month_activate'] = df_digital_activ_merge['first_date_action'].astype('datetime64[M]')"
   ]
  },
  {
   "cell_type": "code",
   "execution_count": 28,
   "metadata": {},
   "outputs": [],
   "source": [
    "#оставим только месяц и год\n",
    "df_digital_activ_merge['month_activate'] = df_digital_activ_merge['month_activate'].dt.strftime('%Y-%m') "
   ]
  },
  {
   "cell_type": "code",
   "execution_count": 29,
   "metadata": {},
   "outputs": [],
   "source": [
    "df_digital_activ_merge['VALUE_DAY'] = df_digital_activ_merge['VALUE_DAY'].dt.strftime('%Y-%m-%d') "
   ]
  },
  {
   "cell_type": "code",
   "execution_count": 30,
   "metadata": {},
   "outputs": [],
   "source": [
    "#сгруппируем данные для получения когорт, за индекс возьмем месяц первого активного действия пользователя\n",
    "cohorts_digital_activ = df_digital_activ_merge.pivot_table(\n",
    "    index='month_activate',\n",
    "    columns='VALUE_DAY',\n",
    "    values='CLIENT_ID',\n",
    "    aggfunc='nunique',\n",
    ") "
   ]
  },
  {
   "cell_type": "code",
   "execution_count": 31,
   "metadata": {},
   "outputs": [
    {
     "data": {
      "text/html": [
       "<div>\n",
       "<style scoped>\n",
       "    .dataframe tbody tr th:only-of-type {\n",
       "        vertical-align: middle;\n",
       "    }\n",
       "\n",
       "    .dataframe tbody tr th {\n",
       "        vertical-align: top;\n",
       "    }\n",
       "\n",
       "    .dataframe thead th {\n",
       "        text-align: right;\n",
       "    }\n",
       "</style>\n",
       "<table border=\"1\" class=\"dataframe\">\n",
       "  <thead>\n",
       "    <tr style=\"text-align: right;\">\n",
       "      <th>VALUE_DAY</th>\n",
       "      <th>2021-09-30</th>\n",
       "      <th>2021-10-31</th>\n",
       "      <th>2021-11-30</th>\n",
       "      <th>2021-12-31</th>\n",
       "      <th>2022-01-31</th>\n",
       "      <th>2022-02-28</th>\n",
       "    </tr>\n",
       "    <tr>\n",
       "      <th>month_activate</th>\n",
       "      <th></th>\n",
       "      <th></th>\n",
       "      <th></th>\n",
       "      <th></th>\n",
       "      <th></th>\n",
       "      <th></th>\n",
       "    </tr>\n",
       "  </thead>\n",
       "  <tbody>\n",
       "    <tr>\n",
       "      <td>2021-09</td>\n",
       "      <td>112885.0</td>\n",
       "      <td>105551.0</td>\n",
       "      <td>102781.0</td>\n",
       "      <td>100132.0</td>\n",
       "      <td>90163.0</td>\n",
       "      <td>89532.0</td>\n",
       "    </tr>\n",
       "    <tr>\n",
       "      <td>2021-10</td>\n",
       "      <td>NaN</td>\n",
       "      <td>9447.0</td>\n",
       "      <td>7323.0</td>\n",
       "      <td>6991.0</td>\n",
       "      <td>5719.0</td>\n",
       "      <td>5656.0</td>\n",
       "    </tr>\n",
       "    <tr>\n",
       "      <td>2021-11</td>\n",
       "      <td>NaN</td>\n",
       "      <td>NaN</td>\n",
       "      <td>6759.0</td>\n",
       "      <td>5397.0</td>\n",
       "      <td>4659.0</td>\n",
       "      <td>4290.0</td>\n",
       "    </tr>\n",
       "    <tr>\n",
       "      <td>2021-12</td>\n",
       "      <td>NaN</td>\n",
       "      <td>NaN</td>\n",
       "      <td>NaN</td>\n",
       "      <td>7456.0</td>\n",
       "      <td>5559.0</td>\n",
       "      <td>5367.0</td>\n",
       "    </tr>\n",
       "    <tr>\n",
       "      <td>2022-01</td>\n",
       "      <td>NaN</td>\n",
       "      <td>NaN</td>\n",
       "      <td>NaN</td>\n",
       "      <td>NaN</td>\n",
       "      <td>14166.0</td>\n",
       "      <td>13014.0</td>\n",
       "    </tr>\n",
       "    <tr>\n",
       "      <td>2022-02</td>\n",
       "      <td>NaN</td>\n",
       "      <td>NaN</td>\n",
       "      <td>NaN</td>\n",
       "      <td>NaN</td>\n",
       "      <td>NaN</td>\n",
       "      <td>5830.0</td>\n",
       "    </tr>\n",
       "  </tbody>\n",
       "</table>\n",
       "</div>"
      ],
      "text/plain": [
       "VALUE_DAY       2021-09-30  2021-10-31  2021-11-30  2021-12-31  2022-01-31  2022-02-28\n",
       "month_activate                                                                        \n",
       "2021-09           112885.0    105551.0    102781.0    100132.0     90163.0     89532.0\n",
       "2021-10                NaN      9447.0      7323.0      6991.0      5719.0      5656.0\n",
       "2021-11                NaN         NaN      6759.0      5397.0      4659.0      4290.0\n",
       "2021-12                NaN         NaN         NaN      7456.0      5559.0      5367.0\n",
       "2022-01                NaN         NaN         NaN         NaN     14166.0     13014.0\n",
       "2022-02                NaN         NaN         NaN         NaN         NaN      5830.0"
      ]
     },
     "execution_count": 31,
     "metadata": {},
     "output_type": "execute_result"
    }
   ],
   "source": [
    "cohorts_digital_activ"
   ]
  },
  {
   "cell_type": "code",
   "execution_count": 32,
   "metadata": {},
   "outputs": [
    {
     "data": {
      "text/plain": [
       "<matplotlib.axes._subplots.AxesSubplot at 0x7f9347a46250>"
      ]
     },
     "execution_count": 32,
     "metadata": {},
     "output_type": "execute_result"
    },
    {
     "data": {
      "image/png": "[encoded data removed]",
      "text/plain": [
       "<Figure size 648x648 with 2 Axes>"
      ]
     },
     "metadata": {
      "needs_background": "light"
     },
     "output_type": "display_data"
    }
   ],
   "source": [
    "#для визуализации применем тепловую карту\n",
    "plt.figure(figsize=(9, 9))\n",
    "plt.title('График удержания клиентов в статусе \"Активный\"')\n",
    "sns.heatmap(cohorts_digital_activ, annot=True, fmt='.0f', linewidths=1, linecolor='grey') "
   ]
  },
  {
   "cell_type": "code",
   "execution_count": null,
   "metadata": {},
   "outputs": [],
   "source": []
  }
 ],
 "metadata": {
  "kernelspec": {
   "display_name": "Python 3",
   "language": "python",
   "name": "python3"
  },
  "language_info": {
   "codemirror_mode": {
    "name": "ipython",
    "version": 3
   },
   "file_extension": ".py",
   "mimetype": "text/x-python",
   "name": "python",
   "nbconvert_exporter": "python",
   "pygments_lexer": "ipython3",
   "version": "3.7.4"
  }
 },
 "nbformat": 4,
 "nbformat_minor": 2
}
